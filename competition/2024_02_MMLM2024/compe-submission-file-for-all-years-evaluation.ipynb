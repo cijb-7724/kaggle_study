{
 "cells": [
  {
   "cell_type": "markdown",
   "id": "b25d48c4",
   "metadata": {
    "_cell_guid": "b1076dfc-b9ad-4769-8c92-a6c4dae69d19",
    "_uuid": "8f2839f25d086af736a60e9eeb907d3b93b6e0e5",
    "execution": {
     "iopub.execute_input": "2024-03-03T17:41:29.349381Z",
     "iopub.status.busy": "2024-03-03T17:41:29.348768Z",
     "iopub.status.idle": "2024-03-03T17:41:30.576044Z",
     "shell.execute_reply": "2024-03-03T17:41:30.574835Z",
     "shell.execute_reply.started": "2024-03-03T17:41:29.349346Z"
    },
    "papermill": {
     "duration": 0.004233,
     "end_time": "2024-03-07T10:25:29.975796",
     "exception": false,
     "start_time": "2024-03-07T10:25:29.971563",
     "status": "completed"
    },
    "tags": []
   },
   "source": [
    "# **The output of this code contains the correct bracket for each year**\n",
    "\n",
    "**Data Processing Functions:**\n",
    "seeds_to_dict: Converts a DataFrame containing team seeds into a dictionary mapping team IDs to seeds.\n",
    "slots_to_dict: Converts a DataFrame containing tournament slots into a dictionary mapping slot IDs to tuples of strong and weak seeds.\n",
    "results_to_dict: Converts a DataFrame containing tournament results into a dictionary mapping team matchups to the winning team.\n",
    "get_play_in: Determines the play-in teams based on tournament results.\n",
    "slots_with_play_in: Adjusts the slots dictionary to include play-in teams.\n",
    "build_bracket_dict: Constructs a bracket dictionary mapping each slot to the winning team.\n",
    "build_bracket_tab: Constructs a DataFrame representing the tournament bracket.\n",
    "Constants:\n",
    "\n",
    "**LEVELS**: Represents the different rounds of the tournament.\n",
    "**SLOTS**: Maps each slot in the tournament bracket to the corresponding teams.\n",
    "Main Execution:\n",
    "\n",
    "Filters the tournament results and seeds dataframes for the desired season (2023).\n",
    "Constructs the tournament bracket DataFrames for both men's and women's tournaments.\n",
    "Concatenates the men's and women's bracket DataFrames into a single submission DataFrame.\n",
    "Writes the submission DataFrame to a CSV file named 'submission.csv'.\n",
    "Overall, the code appears to be logically structured and should work as intended given that the input data files are properly formatted and contain the necessary information. However, without access to the actual data files, it's challenging to confirm the correctness of the results. Make sure to verify the generated submission file against the competition requirements and any provided sample submissions."
   ]
  },
  {
   "cell_type": "code",
   "execution_count": 1,
   "id": "f103a341",
   "metadata": {
    "execution": {
     "iopub.execute_input": "2024-03-07T10:25:29.985313Z",
     "iopub.status.busy": "2024-03-07T10:25:29.984842Z",
     "iopub.status.idle": "2024-03-07T10:25:32.795766Z",
     "shell.execute_reply": "2024-03-07T10:25:32.794778Z"
    },
    "papermill": {
     "duration": 2.818532,
     "end_time": "2024-03-07T10:25:32.798235",
     "exception": false,
     "start_time": "2024-03-07T10:25:29.979703",
     "status": "completed"
    },
    "tags": []
   },
   "outputs": [
    {
     "name": "stdout",
     "output_type": "stream",
     "text": [
      "Could not read file MTeamSpellings.csv\n",
      "Could not read file WTeamSpellings.csv\n"
     ]
    }
   ],
   "source": [
    "import polars as pl\n",
    "import os\n",
    "import pandas as pd\n",
    "\n",
    "TABS = {}\n",
    "for file in os.listdir('../input/march-machine-learning-mania-2024/'):\n",
    "    try:\n",
    "        TABS[file[:-4]] = pl.read_csv(f'../input/march-machine-learning-mania-2024/{file}')\n",
    "    except pl.ComputeError as e:\n",
    "        print(f\"Could not read file {file}\")"
   ]
  },
  {
   "cell_type": "code",
   "execution_count": 2,
   "id": "1bcfa5b7",
   "metadata": {
    "execution": {
     "iopub.execute_input": "2024-03-07T10:25:32.809002Z",
     "iopub.status.busy": "2024-03-07T10:25:32.808119Z",
     "iopub.status.idle": "2024-03-07T10:25:32.839204Z",
     "shell.execute_reply": "2024-03-07T10:25:32.838137Z"
    },
    "papermill": {
     "duration": 0.039413,
     "end_time": "2024-03-07T10:25:32.841808",
     "exception": false,
     "start_time": "2024-03-07T10:25:32.802395",
     "status": "completed"
    },
    "tags": []
   },
   "outputs": [],
   "source": [
    "def seeds_to_dict(seeds):\n",
    "    return {row['TeamID']: row['Seed'] for row in seeds.iter_rows(named=True)}\n",
    "\n",
    "\n",
    "def slots_to_dict(slots):\n",
    "    return {row['Slot']: (row['StrongSeed'], row['WeakSeed']) \n",
    "            for row in slots.iter_rows(named=True)}\n",
    "\n",
    "\n",
    "def results_to_dict(results_tab, seeds_dict):\n",
    "    out = {}\n",
    "    for row in results_tab.iter_rows(named=True):\n",
    "        wid = seeds_dict[row['WTeamID']]\n",
    "        lid = seeds_dict[row['LTeamID']]\n",
    "        out[(wid, lid)] = wid\n",
    "        out[(lid, wid)] = wid\n",
    "    return out\n",
    "\n",
    "\n",
    "LEVELS = [\n",
    "    ['R1W1', 'R1W2', 'R1W3', 'R1W4', 'R1W5', 'R1W6', 'R1W7', 'R1W8', 'R1X1', 'R1X2', 'R1X3', 'R1X4', 'R1X5', 'R1X6', 'R1X7', 'R1X8', 'R1Y1', 'R1Y2', 'R1Y3', 'R1Y4', 'R1Y5', 'R1Y6', 'R1Y7', 'R1Y8', 'R1Z1', 'R1Z2', 'R1Z3', 'R1Z4', 'R1Z5', 'R1Z6', 'R1Z7', 'R1Z8'], \n",
    "    ['R2W1', 'R2W2', 'R2W3', 'R2W4', 'R2X1', 'R2X2', 'R2X3', 'R2X4', 'R2Y1', 'R2Y2', 'R2Y3', 'R2Y4', 'R2Z1', 'R2Z2', 'R2Z3', 'R2Z4'],\n",
    "    ['R3W1', 'R3W2', 'R3X1', 'R3X2', 'R3Y1', 'R3Y2', 'R3Z1', 'R3Z2'], \n",
    "    ['R4W1', 'R4X1', 'R4Y1', 'R4Z1'], \n",
    "    ['R5WX', 'R5YZ'], \n",
    "    ['R6CH'],\n",
    "]\n",
    "\n",
    "SLOTS = {'R1W1': ('W01', 'W16'), 'R1W2': ('W02', 'W15'), 'R1W3': ('W03', 'W14'), 'R1W4': ('W04', 'W13'), 'R1W5': ('W05', 'W12'), 'R1W6': ('W06', 'W11'), 'R1W7': ('W07', 'W10'), 'R1W8': ('W08', 'W09'), 'R1X1': ('X01', 'X16'), 'R1X2': ('X02', 'X15'), 'R1X3': ('X03', 'X14'), 'R1X4': ('X04', 'X13'), 'R1X5': ('X05', 'X12'), 'R1X6': ('X06', 'X11'), 'R1X7': ('X07', 'X10'), 'R1X8': ('X08', 'X09'), 'R1Y1': ('Y01', 'Y16'), 'R1Y2': ('Y02', 'Y15'), 'R1Y3': ('Y03', 'Y14'), 'R1Y4': ('Y04', 'Y13'), 'R1Y5': ('Y05', 'Y12'), 'R1Y6': ('Y06', 'Y11'), 'R1Y7': ('Y07', 'Y10'), 'R1Y8': ('Y08', 'Y09'), 'R1Z1': ('Z01', 'Z16'), 'R1Z2': ('Z02', 'Z15'), 'R1Z3': ('Z03', 'Z14'), 'R1Z4': ('Z04', 'Z13'), 'R1Z5': ('Z05', 'Z12'), 'R1Z6': ('Z06', 'Z11'), 'R1Z7': ('Z07', 'Z10'), 'R1Z8': ('Z08', 'Z09'), 'R2W1': ('R1W1', 'R1W8'), 'R2W2': ('R1W2', 'R1W7'), 'R2W3': ('R1W3', 'R1W6'), 'R2W4': ('R1W4', 'R1W5'), 'R2X1': ('R1X1', 'R1X8'), 'R2X2': ('R1X2', 'R1X7'), 'R2X3': ('R1X3', 'R1X6'), 'R2X4': ('R1X4', 'R1X5'), 'R2Y1': ('R1Y1', 'R1Y8'), 'R2Y2': ('R1Y2', 'R1Y7'), 'R2Y3': ('R1Y3', 'R1Y6'), 'R2Y4': ('R1Y4', 'R1Y5'), 'R2Z1': ('R1Z1', 'R1Z8'), 'R2Z2': ('R1Z2', 'R1Z7'), 'R2Z3': ('R1Z3', 'R1Z6'), 'R2Z4': ('R1Z4', 'R1Z5'), 'R3W1': ('R2W1', 'R2W4'), 'R3W2': ('R2W2', 'R2W3'), 'R3X1': ('R2X1', 'R2X4'), 'R3X2': ('R2X2', 'R2X3'), 'R3Y1': ('R2Y1', 'R2Y4'), 'R3Y2': ('R2Y2', 'R2Y3'), 'R3Z1': ('R2Z1', 'R2Z4'), 'R3Z2': ('R2Z2', 'R2Z3'), 'R4W1': ('R3W1', 'R3W2'), 'R4X1': ('R3X1', 'R3X2'), 'R4Y1': ('R3Y1', 'R3Y2'), 'R4Z1': ('R3Z1', 'R3Z2'), 'R5WX': ('R4W1', 'R4X1'), 'R5YZ': ('R4Y1', 'R4Z1'), 'R6CH': ('R5WX', 'R5YZ')}\n",
    "\n",
    "\n",
    "def get_play_in(results):\n",
    "    play_in = set()\n",
    "    for team1, team2 in results:\n",
    "        if len(team1) > 3:\n",
    "            play_in.add(team1[:3])\n",
    "        if len(team2) > 3:\n",
    "            play_in.add(team2[:3])\n",
    "    return list(play_in)\n",
    "\n",
    "\n",
    "def slots_with_play_in(play_in):\n",
    "    out = SLOTS.copy()\n",
    "    for slot in play_in:\n",
    "        out[slot] = f'{slot}a', f'{slot}b'\n",
    "    return out\n",
    "\n",
    "\n",
    "def build_bracket_dict(results_dict):\n",
    "    bracket = {}\n",
    "    play_in = get_play_in(results_dict)\n",
    "    slots = slots_with_play_in(play_in)\n",
    "    levels = [play_in] + LEVELS\n",
    "    # Play-in phase\n",
    "    for key in levels[0]:\n",
    "        bracket[key] = results_dict[slots[key]]\n",
    "    # Regular phase\n",
    "    for i in range(1, 7):\n",
    "        for key in levels[i]:\n",
    "            k1, k2 = slots[key]\n",
    "            if k1 in levels[i-1]:\n",
    "                k1 = bracket[k1]\n",
    "            if k2 in levels[i-1]:\n",
    "                k2 = bracket[k2]\n",
    "            bracket[key] = results_dict[(k1, k2)]\n",
    "    return bracket\n",
    "\n",
    "\n",
    "def build_bracket_tab(results_tab, seeds_tab):\n",
    "    seeds_dict = seeds_to_dict(seeds_tab)\n",
    "    results_dict = results_to_dict(results_tab, seeds_dict)\n",
    "    bracket_dict = build_bracket_dict(results_dict)\n",
    "    # Remove play-in phase, map W16a -> W16, ...\n",
    "    data = {'Slot': [], 'Team': []}\n",
    "    for slot, win in bracket_dict.items():\n",
    "        if not slot.startswith('R'):\n",
    "            continue\n",
    "        data['Slot'].append(slot)\n",
    "        data['Team'].append(win[:3])\n",
    "    return pl.DataFrame(data)"
   ]
  },
  {
   "cell_type": "code",
   "execution_count": 3,
   "id": "707292db",
   "metadata": {
    "execution": {
     "iopub.execute_input": "2024-03-07T10:25:32.852119Z",
     "iopub.status.busy": "2024-03-07T10:25:32.851493Z",
     "iopub.status.idle": "2024-03-07T10:25:33.150756Z",
     "shell.execute_reply": "2024-03-07T10:25:33.149455Z"
    },
    "papermill": {
     "duration": 0.30761,
     "end_time": "2024-03-07T10:25:33.153536",
     "exception": false,
     "start_time": "2024-03-07T10:25:32.845926",
     "status": "completed"
    },
    "tags": []
   },
   "outputs": [
    {
     "data": {
      "text/html": [
       "<div>\n",
       "<style scoped>\n",
       "    .dataframe tbody tr th:only-of-type {\n",
       "        vertical-align: middle;\n",
       "    }\n",
       "\n",
       "    .dataframe tbody tr th {\n",
       "        vertical-align: top;\n",
       "    }\n",
       "\n",
       "    .dataframe thead th {\n",
       "        text-align: right;\n",
       "    }\n",
       "</style>\n",
       "<table border=\"1\" class=\"dataframe\">\n",
       "  <thead>\n",
       "    <tr style=\"text-align: right;\">\n",
       "      <th></th>\n",
       "      <th>RowId</th>\n",
       "      <th>Tournament</th>\n",
       "      <th>Bracket</th>\n",
       "      <th>Slot</th>\n",
       "      <th>Team</th>\n",
       "      <th>Season</th>\n",
       "    </tr>\n",
       "  </thead>\n",
       "  <tbody>\n",
       "    <tr>\n",
       "      <th>0</th>\n",
       "      <td>0</td>\n",
       "      <td>M</td>\n",
       "      <td>1</td>\n",
       "      <td>R1W1</td>\n",
       "      <td>W01</td>\n",
       "      <td>1998</td>\n",
       "    </tr>\n",
       "    <tr>\n",
       "      <th>1</th>\n",
       "      <td>1</td>\n",
       "      <td>M</td>\n",
       "      <td>1</td>\n",
       "      <td>R1W2</td>\n",
       "      <td>W02</td>\n",
       "      <td>1998</td>\n",
       "    </tr>\n",
       "    <tr>\n",
       "      <th>2</th>\n",
       "      <td>2</td>\n",
       "      <td>M</td>\n",
       "      <td>1</td>\n",
       "      <td>R1W3</td>\n",
       "      <td>W14</td>\n",
       "      <td>1998</td>\n",
       "    </tr>\n",
       "    <tr>\n",
       "      <th>3</th>\n",
       "      <td>3</td>\n",
       "      <td>M</td>\n",
       "      <td>1</td>\n",
       "      <td>R1W4</td>\n",
       "      <td>W04</td>\n",
       "      <td>1998</td>\n",
       "    </tr>\n",
       "    <tr>\n",
       "      <th>4</th>\n",
       "      <td>4</td>\n",
       "      <td>M</td>\n",
       "      <td>1</td>\n",
       "      <td>R1W5</td>\n",
       "      <td>W05</td>\n",
       "      <td>1998</td>\n",
       "    </tr>\n",
       "    <tr>\n",
       "      <th>...</th>\n",
       "      <td>...</td>\n",
       "      <td>...</td>\n",
       "      <td>...</td>\n",
       "      <td>...</td>\n",
       "      <td>...</td>\n",
       "      <td>...</td>\n",
       "    </tr>\n",
       "    <tr>\n",
       "      <th>3145</th>\n",
       "      <td>121</td>\n",
       "      <td>W</td>\n",
       "      <td>1</td>\n",
       "      <td>R4Y1</td>\n",
       "      <td>Y03</td>\n",
       "      <td>2023</td>\n",
       "    </tr>\n",
       "    <tr>\n",
       "      <th>3146</th>\n",
       "      <td>122</td>\n",
       "      <td>W</td>\n",
       "      <td>1</td>\n",
       "      <td>R4Z1</td>\n",
       "      <td>Z01</td>\n",
       "      <td>2023</td>\n",
       "    </tr>\n",
       "    <tr>\n",
       "      <th>3147</th>\n",
       "      <td>123</td>\n",
       "      <td>W</td>\n",
       "      <td>1</td>\n",
       "      <td>R5WX</td>\n",
       "      <td>X02</td>\n",
       "      <td>2023</td>\n",
       "    </tr>\n",
       "    <tr>\n",
       "      <th>3148</th>\n",
       "      <td>124</td>\n",
       "      <td>W</td>\n",
       "      <td>1</td>\n",
       "      <td>R5YZ</td>\n",
       "      <td>Y03</td>\n",
       "      <td>2023</td>\n",
       "    </tr>\n",
       "    <tr>\n",
       "      <th>3149</th>\n",
       "      <td>125</td>\n",
       "      <td>W</td>\n",
       "      <td>1</td>\n",
       "      <td>R6CH</td>\n",
       "      <td>Y03</td>\n",
       "      <td>2023</td>\n",
       "    </tr>\n",
       "  </tbody>\n",
       "</table>\n",
       "<p>3150 rows × 6 columns</p>\n",
       "</div>"
      ],
      "text/plain": [
       "      RowId Tournament  Bracket  Slot Team  Season\n",
       "0         0          M        1  R1W1  W01    1998\n",
       "1         1          M        1  R1W2  W02    1998\n",
       "2         2          M        1  R1W3  W14    1998\n",
       "3         3          M        1  R1W4  W04    1998\n",
       "4         4          M        1  R1W5  W05    1998\n",
       "...     ...        ...      ...   ...  ...     ...\n",
       "3145    121          W        1  R4Y1  Y03    2023\n",
       "3146    122          W        1  R4Z1  Z01    2023\n",
       "3147    123          W        1  R5WX  X02    2023\n",
       "3148    124          W        1  R5YZ  Y03    2023\n",
       "3149    125          W        1  R6CH  Y03    2023\n",
       "\n",
       "[3150 rows x 6 columns]"
      ]
     },
     "execution_count": 3,
     "metadata": {},
     "output_type": "execute_result"
    }
   ],
   "source": [
    "all_submissions = []\n",
    "for season in range(1998, 2024, 1):\n",
    "    if season != 2020:\n",
    "        # print(season)\n",
    "        m_results = TABS['MNCAATourneyCompactResults'].filter(pl.col('Season') == season)\n",
    "        w_results = TABS['WNCAATourneyCompactResults'].filter(pl.col('Season') == season)\n",
    "        m_seeds = TABS['MNCAATourneySeeds'].filter(pl.col('Season') == season)\n",
    "        w_seeds = TABS['WNCAATourneySeeds'].filter(pl.col('Season') == season)\n",
    "        if season == 2021:\n",
    "            new_row = {'Season': 2021, 'DayNum': 136, 'WTeamID': 1332,'WScore': 78,'LTeamID': 1433,'LScore': 59, 'WLoc': 'N','NumOT': 0}\n",
    "            new_row = pl.DataFrame(new_row)  \n",
    "            m_results = pl.concat([m_results, new_row])  \n",
    "        m_tab = build_bracket_tab(m_results, m_seeds)\n",
    "        w_tab = build_bracket_tab(w_results, w_seeds)\n",
    "        submission = pl.concat([\n",
    "        m_tab.with_columns(\n",
    "            pl.lit('M').alias('Tournament'),\n",
    "            pl.lit(1).alias('Bracket')),\n",
    "        w_tab.with_columns(\n",
    "            pl.lit('W').alias('Tournament'),\n",
    "            pl.lit(1).alias('Bracket')),]).with_row_index(name='RowId')[['RowId', 'Tournament', 'Bracket', 'Slot', 'Team']]\n",
    "        submission = submission.with_columns(season)\n",
    "        all_submissions.append(submission)\n",
    "submission = pl.concat(all_submissions).to_pandas()  \n",
    "submission['Season'] = submission['literal']\n",
    "submission.drop('literal', axis=1, inplace=True)\n",
    "submission.to_csv('submission.csv')\n",
    "submission"
   ]
  },
  {
   "cell_type": "markdown",
   "id": "36172a3a",
   "metadata": {
    "papermill": {
     "duration": 0.004404,
     "end_time": "2024-03-07T10:25:33.162521",
     "exception": false,
     "start_time": "2024-03-07T10:25:33.158117",
     "status": "completed"
    },
    "tags": []
   },
   "source": [
    "# Output"
   ]
  },
  {
   "cell_type": "code",
   "execution_count": 4,
   "id": "cc38c2df",
   "metadata": {
    "execution": {
     "iopub.execute_input": "2024-03-07T10:25:33.173174Z",
     "iopub.status.busy": "2024-03-07T10:25:33.172725Z",
     "iopub.status.idle": "2024-03-07T10:25:33.185383Z",
     "shell.execute_reply": "2024-03-07T10:25:33.184067Z"
    },
    "papermill": {
     "duration": 0.021085,
     "end_time": "2024-03-07T10:25:33.187987",
     "exception": false,
     "start_time": "2024-03-07T10:25:33.166902",
     "status": "completed"
    },
    "tags": []
   },
   "outputs": [
    {
     "data": {
      "text/html": [
       "<div>\n",
       "<style scoped>\n",
       "    .dataframe tbody tr th:only-of-type {\n",
       "        vertical-align: middle;\n",
       "    }\n",
       "\n",
       "    .dataframe tbody tr th {\n",
       "        vertical-align: top;\n",
       "    }\n",
       "\n",
       "    .dataframe thead th {\n",
       "        text-align: right;\n",
       "    }\n",
       "</style>\n",
       "<table border=\"1\" class=\"dataframe\">\n",
       "  <thead>\n",
       "    <tr style=\"text-align: right;\">\n",
       "      <th></th>\n",
       "      <th>RowId</th>\n",
       "      <th>Tournament</th>\n",
       "      <th>Bracket</th>\n",
       "      <th>Slot</th>\n",
       "      <th>Team</th>\n",
       "      <th>Season</th>\n",
       "    </tr>\n",
       "  </thead>\n",
       "  <tbody>\n",
       "  </tbody>\n",
       "</table>\n",
       "</div>"
      ],
      "text/plain": [
       "Empty DataFrame\n",
       "Columns: [RowId, Tournament, Bracket, Slot, Team, Season]\n",
       "Index: []"
      ]
     },
     "execution_count": 4,
     "metadata": {},
     "output_type": "execute_result"
    }
   ],
   "source": [
    "submission[submission['Season'] == 2024]"
   ]
  },
  {
   "cell_type": "code",
   "execution_count": null,
   "id": "91db0609",
   "metadata": {
    "papermill": {
     "duration": 0.00441,
     "end_time": "2024-03-07T10:25:33.197453",
     "exception": false,
     "start_time": "2024-03-07T10:25:33.193043",
     "status": "completed"
    },
    "tags": []
   },
   "outputs": [],
   "source": []
  },
  {
   "cell_type": "code",
   "execution_count": null,
   "id": "f7d2feaa",
   "metadata": {
    "papermill": {
     "duration": 0.004309,
     "end_time": "2024-03-07T10:25:33.206458",
     "exception": false,
     "start_time": "2024-03-07T10:25:33.202149",
     "status": "completed"
    },
    "tags": []
   },
   "outputs": [],
   "source": []
  }
 ],
 "metadata": {
  "kaggle": {
   "accelerator": "none",
   "dataSources": [
    {
     "databundleVersionId": 7878506,
     "sourceId": 70068,
     "sourceType": "competition"
    }
   ],
   "dockerImageVersionId": 30664,
   "isGpuEnabled": false,
   "isInternetEnabled": false,
   "language": "python",
   "sourceType": "notebook"
  },
  "kernelspec": {
   "display_name": "Python 3",
   "language": "python",
   "name": "python3"
  },
  "language_info": {
   "codemirror_mode": {
    "name": "ipython",
    "version": 3
   },
   "file_extension": ".py",
   "mimetype": "text/x-python",
   "name": "python",
   "nbconvert_exporter": "python",
   "pygments_lexer": "ipython3",
   "version": "3.10.13"
  },
  "papermill": {
   "default_parameters": {},
   "duration": 7.178326,
   "end_time": "2024-03-07T10:25:33.833904",
   "environment_variables": {},
   "exception": null,
   "input_path": "__notebook__.ipynb",
   "output_path": "__notebook__.ipynb",
   "parameters": {},
   "start_time": "2024-03-07T10:25:26.655578",
   "version": "2.5.0"
  }
 },
 "nbformat": 4,
 "nbformat_minor": 5
}
